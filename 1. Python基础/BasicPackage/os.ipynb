{
 "cells": [
  {
   "cell_type": "markdown",
   "metadata": {},
   "source": [
    "# os库教学"
   ]
  },
  {
   "cell_type": "code",
   "execution_count": 24,
   "metadata": {
    "ExecuteTime": {
     "end_time": "2021-01-21T05:50:14.158659Z",
     "start_time": "2021-01-21T05:50:14.154732Z"
    }
   },
   "outputs": [],
   "source": [
    "import os\n",
    "\n",
    "# Jupyter 参数设置\n",
    "# 导入设置后， 在一个cell 可以输出多个值\n",
    "# 就没有必要用不同的cell去运行\n",
    "from IPython.core.interactiveshell import InteractiveShell\n",
    "InteractiveShell.ast_node_interactivity = 'all'"
   ]
  },
  {
   "cell_type": "markdown",
   "metadata": {},
   "source": [
    "## os.path相关操作"
   ]
  },
  {
   "cell_type": "markdown",
   "metadata": {},
   "source": [
    "### 返回上下级目录"
   ]
  },
  {
   "cell_type": "code",
   "execution_count": 11,
   "metadata": {
    "ExecuteTime": {
     "end_time": "2021-01-21T05:44:00.667856Z",
     "start_time": "2021-01-21T05:44:00.662862Z"
    }
   },
   "outputs": [
    {
     "name": "stdout",
     "output_type": "stream",
     "text": [
      "/Users/sean/Documents/GitHub/MyGitHub/PythonStudy/1. Python基础/BasicPackage\n",
      "/Users/sean/Documents/GitHub/MyGitHub/PythonStudy/1. Python基础\n",
      "/Users/sean/Documents/GitHub/MyGitHub/PythonStudy\n",
      "/Users/sean/Documents/GitHub/MyGitHub/PythonStudy/1. Python基础/BasicPackage/son_folder\n"
     ]
    }
   ],
   "source": [
    "file_root = os.getcwd()\n",
    "\n",
    "# 返回上级目录操作\n",
    "\n",
    "#file_root = os.path.dirname(__file__) # 返回该文件目录 在py文件中使用\n",
    "father_root = os.path.abspath(os.path.join(file_root, \"..\")) # 上级目录\n",
    "fatherfather_root = os.path.abspath(os.path.join(file_root, \"../..\")) # 上上级目录\n",
    "# ../../.. 上上上级目录\n",
    "print(file_root)\n",
    "print(father_root)\n",
    "print(fatherfather_root)\n",
    "\n",
    "# 返回下级目录操作\n",
    "son_folder_path = os.path.join(file_root, 'son_folder')\n",
    "print(son_folder_path)\n"
   ]
  },
  {
   "cell_type": "markdown",
   "metadata": {},
   "source": [
    "### 几种判断"
   ]
  },
  {
   "cell_type": "code",
   "execution_count": 21,
   "metadata": {
    "ExecuteTime": {
     "end_time": "2021-01-21T05:48:04.416625Z",
     "start_time": "2021-01-21T05:48:04.412251Z"
    }
   },
   "outputs": [
    {
     "data": {
      "text/plain": [
       "True"
      ]
     },
     "execution_count": 21,
     "metadata": {},
     "output_type": "execute_result"
    }
   ],
   "source": [
    "# 判断路径是否为目录\n",
    "os.path.isdir('/Users/sean/Documents/GitHub/MyGitHub/PythonStudy/1. Python基础/BasicPackage')"
   ]
  },
  {
   "cell_type": "code",
   "execution_count": 23,
   "metadata": {
    "ExecuteTime": {
     "end_time": "2021-01-21T05:49:04.297599Z",
     "start_time": "2021-01-21T05:49:04.293325Z"
    }
   },
   "outputs": [
    {
     "data": {
      "text/plain": [
       "False"
      ]
     },
     "execution_count": 23,
     "metadata": {},
     "output_type": "execute_result"
    }
   ],
   "source": [
    "# 判断路径是否为文件\n",
    "os.path.isfile('/Users/sean/Documents/GitHub/MyGitHub/PythonStudy/1. Python基础/BasicPackage')"
   ]
  },
  {
   "cell_type": "code",
   "execution_count": 34,
   "metadata": {
    "ExecuteTime": {
     "end_time": "2021-01-21T06:03:30.896795Z",
     "start_time": "2021-01-21T06:03:30.890492Z"
    }
   },
   "outputs": [
    {
     "data": {
      "text/plain": [
       "True"
      ]
     },
     "execution_count": 34,
     "metadata": {},
     "output_type": "execute_result"
    },
    {
     "data": {
      "text/plain": [
       "False"
      ]
     },
     "execution_count": 34,
     "metadata": {},
     "output_type": "execute_result"
    }
   ],
   "source": [
    "# 判断路径是否为存在\n",
    "os.path.exists('/Users/sean/Documents/GitHub/MyGitHub/PythonStudy/1. Python基础/BasicPackage')\n",
    "os.path.exists('/Users/sean/Documents/GitHub/MyGitHub/PythonStudy/nofolder')"
   ]
  },
  {
   "cell_type": "code",
   "execution_count": 38,
   "metadata": {
    "ExecuteTime": {
     "end_time": "2021-01-21T06:08:11.980606Z",
     "start_time": "2021-01-21T06:08:11.976740Z"
    }
   },
   "outputs": [
    {
     "data": {
      "text/plain": [
       "'/Users/sean/Documents/GitHub/MyGitHub/PythonStudy/nofolder'"
      ]
     },
     "execution_count": 38,
     "metadata": {},
     "output_type": "execute_result"
    }
   ],
   "source": [
    "os.path.normpath('/Users/sean/Documents/GitHub/MyGitHub/PythonStudy/nofolder')"
   ]
  },
  {
   "cell_type": "markdown",
   "metadata": {},
   "source": [
    "### 其他方法"
   ]
  },
  {
   "cell_type": "code",
   "execution_count": 27,
   "metadata": {
    "ExecuteTime": {
     "end_time": "2021-01-21T05:50:58.614446Z",
     "start_time": "2021-01-21T05:50:58.609279Z"
    }
   },
   "outputs": [
    {
     "data": {
      "text/plain": [
       "'BasicPackage'"
      ]
     },
     "execution_count": 27,
     "metadata": {},
     "output_type": "execute_result"
    },
    {
     "data": {
      "text/plain": [
       "'os.ipynb'"
      ]
     },
     "execution_count": 27,
     "metadata": {},
     "output_type": "execute_result"
    }
   ],
   "source": [
    "# os.path.basename(路径) 获取路径所在的文件名/文件夹名，获取得到的是路径末尾的名字 超级好用\n",
    "os.path.basename('/Users/BasicPackage') \n",
    "os.path.basename('/Users/BasicPackage/os.ipynb')"
   ]
  },
  {
   "cell_type": "code",
   "execution_count": 31,
   "metadata": {
    "ExecuteTime": {
     "end_time": "2021-01-21T05:52:57.461135Z",
     "start_time": "2021-01-21T05:52:57.456136Z"
    },
    "scrolled": true
   },
   "outputs": [
    {
     "data": {
      "text/plain": [
       "'/Users/BasicPackage'"
      ]
     },
     "execution_count": 31,
     "metadata": {},
     "output_type": "execute_result"
    },
    {
     "data": {
      "text/plain": [
       "'/Users/BasicPackage'"
      ]
     },
     "execution_count": 31,
     "metadata": {},
     "output_type": "execute_result"
    }
   ],
   "source": [
    "#  os.path.dirname(路径）获取文件所在目录的绝对路径\n",
    "os.path.dirname('/Users/BasicPackage/os.ipynb')\n",
    "os.path.dirname('/Users/BasicPackage/')"
   ]
  },
  {
   "cell_type": "code",
   "execution_count": 39,
   "metadata": {
    "ExecuteTime": {
     "end_time": "2021-01-21T06:09:00.971802Z",
     "start_time": "2021-01-21T06:09:00.968062Z"
    }
   },
   "outputs": [
    {
     "data": {
      "text/plain": [
       "('/Users/BasicPackage', 'os.ipynb')"
      ]
     },
     "execution_count": 39,
     "metadata": {},
     "output_type": "execute_result"
    }
   ],
   "source": [
    "# 分割用户名的路径成 目录的路径和文件名。\n",
    "# 数据结构是元组\n",
    "os.path.split('/Users/BasicPackage/os.ipynb')"
   ]
  },
  {
   "cell_type": "code",
   "execution_count": 44,
   "metadata": {
    "ExecuteTime": {
     "end_time": "2021-01-21T06:15:29.230587Z",
     "start_time": "2021-01-21T06:15:29.226515Z"
    }
   },
   "outputs": [
    {
     "data": {
      "text/plain": [
       "'sdf/sdfsd'"
      ]
     },
     "execution_count": 44,
     "metadata": {},
     "output_type": "execute_result"
    }
   ],
   "source": [
    "os.path.normpath('sdf/./sdfsd')"
   ]
  },
  {
   "cell_type": "markdown",
   "metadata": {},
   "source": [
    "## 常用操作"
   ]
  },
  {
   "cell_type": "code",
   "execution_count": 47,
   "metadata": {
    "ExecuteTime": {
     "end_time": "2021-01-21T06:19:42.171730Z",
     "start_time": "2021-01-21T06:19:42.165495Z"
    }
   },
   "outputs": [
    {
     "data": {
      "text/plain": [
       "['reference.md',\n",
       " '.DS_Store',\n",
       " 'LICENSE',\n",
       " '3. Python 进阶',\n",
       " 'Basic.md',\n",
       " '1. Python基础',\n",
       " 'README.md',\n",
       " '.git',\n",
       " '.vscode',\n",
       " '2. Python 数据分析']"
      ]
     },
     "execution_count": 47,
     "metadata": {},
     "output_type": "execute_result"
    },
    {
     "data": {
      "text/plain": [
       "'/Users/sean/Documents/GitHub/MyGitHub/PythonStudy'"
      ]
     },
     "execution_count": 47,
     "metadata": {},
     "output_type": "execute_result"
    }
   ],
   "source": [
    "# 返回一个列表\n",
    "# 列表里面包含文件名和文件夹名\n",
    "os.listdir('/Users/sean/Documents/GitHub/MyGitHub/PythonStudy')"
   ]
  },
  {
   "cell_type": "code",
   "execution_count": 48,
   "metadata": {
    "ExecuteTime": {
     "end_time": "2021-01-21T06:24:39.538570Z",
     "start_time": "2021-01-21T06:24:39.534437Z"
    }
   },
   "outputs": [
    {
     "data": {
      "text/plain": [
       "'/Users/sean/Documents/GitHub/MyGitHub/PythonStudy'"
      ]
     },
     "execution_count": 48,
     "metadata": {},
     "output_type": "execute_result"
    }
   ],
   "source": [
    "# 更改当面目录到指定目录\n",
    "os.chdir('/Users/sean/Documents/GitHub/MyGitHub/PythonStudy')\n",
    "os.getcwd()"
   ]
  },
  {
   "cell_type": "code",
   "execution_count": 64,
   "metadata": {
    "ExecuteTime": {
     "end_time": "2021-01-21T06:28:49.349511Z",
     "start_time": "2021-01-21T06:28:49.345460Z"
    }
   },
   "outputs": [
    {
     "data": {
      "text/plain": [
       "True"
      ]
     },
     "execution_count": 64,
     "metadata": {},
     "output_type": "execute_result"
    }
   ],
   "source": [
    "os.mkdir('text')\n",
    "os.path.exists('text')"
   ]
  },
  {
   "cell_type": "code",
   "execution_count": 65,
   "metadata": {
    "ExecuteTime": {
     "end_time": "2021-01-21T06:28:50.823934Z",
     "start_time": "2021-01-21T06:28:50.819854Z"
    }
   },
   "outputs": [
    {
     "data": {
      "text/plain": [
       "True"
      ]
     },
     "execution_count": 65,
     "metadata": {},
     "output_type": "execute_result"
    }
   ],
   "source": [
    "os.rename('text','test')\n",
    "os.path.exists('test')"
   ]
  },
  {
   "cell_type": "code",
   "execution_count": 66,
   "metadata": {
    "ExecuteTime": {
     "end_time": "2021-01-21T06:28:53.734606Z",
     "start_time": "2021-01-21T06:28:53.730152Z"
    }
   },
   "outputs": [
    {
     "data": {
      "text/plain": [
       "False"
      ]
     },
     "execution_count": 66,
     "metadata": {},
     "output_type": "execute_result"
    }
   ],
   "source": [
    "os.rmdir('test')\n",
    "os.path.exists('test')"
   ]
  },
  {
   "cell_type": "code",
   "execution_count": null,
   "metadata": {},
   "outputs": [],
   "source": []
  }
 ],
 "metadata": {
  "kernelspec": {
   "display_name": "Python 3",
   "language": "python",
   "name": "python3"
  },
  "language_info": {
   "codemirror_mode": {
    "name": "ipython",
    "version": 3
   },
   "file_extension": ".py",
   "mimetype": "text/x-python",
   "name": "python",
   "nbconvert_exporter": "python",
   "pygments_lexer": "ipython3",
   "version": "3.7.6"
  },
  "toc": {
   "base_numbering": 1,
   "nav_menu": {},
   "number_sections": true,
   "sideBar": true,
   "skip_h1_title": false,
   "title_cell": "Table of Contents",
   "title_sidebar": "Contents",
   "toc_cell": false,
   "toc_position": {},
   "toc_section_display": true,
   "toc_window_display": true
  },
  "varInspector": {
   "cols": {
    "lenName": 16,
    "lenType": 16,
    "lenVar": 40
   },
   "kernels_config": {
    "python": {
     "delete_cmd_postfix": "",
     "delete_cmd_prefix": "del ",
     "library": "var_list.py",
     "varRefreshCmd": "print(var_dic_list())"
    },
    "r": {
     "delete_cmd_postfix": ") ",
     "delete_cmd_prefix": "rm(",
     "library": "var_list.r",
     "varRefreshCmd": "cat(var_dic_list()) "
    }
   },
   "types_to_exclude": [
    "module",
    "function",
    "builtin_function_or_method",
    "instance",
    "_Feature"
   ],
   "window_display": false
  }
 },
 "nbformat": 4,
 "nbformat_minor": 2
}
