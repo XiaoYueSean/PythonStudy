{
 "metadata": {
  "language_info": {
   "codemirror_mode": {
    "name": "ipython",
    "version": 3
   },
   "file_extension": ".py",
   "mimetype": "text/x-python",
   "name": "python",
   "nbconvert_exporter": "python",
   "pygments_lexer": "ipython3",
   "version": "3.7.6-final"
  },
  "orig_nbformat": 2,
  "kernelspec": {
   "name": "python3",
   "display_name": "Python 3",
   "language": "python"
  }
 },
 "nbformat": 4,
 "nbformat_minor": 2,
 "cells": [
  {
   "cell_type": "code",
   "execution_count": 12,
   "metadata": {},
   "outputs": [
    {
     "output_type": "stream",
     "name": "stdout",
     "text": [
      "\breadline读取数据方法\nfirstline\n\nthirdline\n"
     ]
    }
   ],
   "source": [
    "import os \n",
    "import sys\n",
    "\n",
    "# 获取当前文件夹\n",
    "current_dir_path = sys.path[0]\n",
    "# 得到文件的路径\n",
    "data_path = os.path.join(current_dir_path, 'data/input_test.txt')\n",
    "\n",
    "# 一行一行读取数据\n",
    "with open(data_path, 'r') as file:\n",
    "    read_firstline = file.readline() # readline 方法读取每一行最后有换行符 \\n \n",
    "    read_secondline = file.readline()\n",
    "    read_thirdline = file.readline()\n",
    "    print(read_firstline)\n",
    "    print(read_thirdline)\n"
   ]
  },
  {
   "cell_type": "code",
   "execution_count": 14,
   "metadata": {},
   "outputs": [
    {
     "output_type": "stream",
     "name": "stdout",
     "text": [
      "['firstline\\n', 'secondline\\n', 'thirdline']\n除掉\\n后的数据\n ['firstline', 'secondline', 'thirdline']\n"
     ]
    }
   ],
   "source": [
    "with open(data_path, 'r') as file:\n",
    "    all_data = file.readlines() # readline 方法读取每一行最后有换行符 \\n \n",
    "    print(all_data)\n",
    "    clean_data = [word.strip('\\n') for word in all_data]\n",
    "    print('除掉\\\\n后的数据\\n',clean_data)\n"
   ]
  },
  {
   "cell_type": "code",
   "execution_count": 18,
   "metadata": {},
   "outputs": [],
   "source": [
    "write_data_path = os.path.join(current_dir_path, 'data/write_test.txt')\n",
    "\n",
    "with open(write_data_path, 'w') as file:\n",
    "    file.write('write my first_list')\n",
    "    file.write('\\nwrite')\n"
   ]
  },
  {
   "cell_type": "code",
   "execution_count": null,
   "metadata": {},
   "outputs": [],
   "source": []
  }
 ]
}