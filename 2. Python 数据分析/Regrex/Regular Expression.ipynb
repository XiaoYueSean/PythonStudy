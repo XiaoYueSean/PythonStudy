{
 "cells": [
  {
   "cell_type": "markdown",
   "metadata": {},
   "source": [
    " re 库\n",
    "***正则表达式是用来简洁的表达一串字符串的的表达式***\n",
    "# re 库用法\n",
    "两种模式(两者相等价）:  \n",
    "+ 函数式用法，一次性操作\n",
    "+ 面向对象式用法，编译后多次操作"
   ]
  },
  {
   "cell_type": "code",
   "execution_count": 2,
   "metadata": {
    "ExecuteTime": {
     "end_time": "2020-12-03T11:51:54.028302Z",
     "start_time": "2020-12-03T11:51:54.025149Z"
    }
   },
   "outputs": [
    {
     "name": "stdout",
     "output_type": "stream",
     "text": [
      "<re.Match object; span=(4, 10), match='100081'>\n"
     ]
    }
   ],
   "source": [
    "import re\n",
    "\n",
    "# 函数式用法\n",
    "rst = re.search(r'[1-9]\\d{5}', 'BIT 100081')\n",
    "print(rst)"
   ]
  },
  {
   "cell_type": "code",
   "execution_count": 140,
   "metadata": {
    "ExecuteTime": {
     "end_time": "2020-11-29T12:51:45.929335Z",
     "start_time": "2020-11-29T12:51:45.925964Z"
    }
   },
   "outputs": [
    {
     "name": "stdout",
     "output_type": "stream",
     "text": [
      "<re.Match object; span=(4, 10), match='100081'>\n"
     ]
    }
   ],
   "source": [
    "# 面向对象式用法\n",
    "regex = re.compile(r'[1-9]\\d{5}')\n",
    "rst = regex.search('BIT 100081')\n",
    "print(rst)"
   ]
  },
  {
   "cell_type": "markdown",
   "metadata": {},
   "source": [
    "# re库方法"
   ]
  },
  {
   "cell_type": "markdown",
   "metadata": {
    "ExecuteTime": {
     "end_time": "2020-11-29T05:03:12.080829Z",
     "start_time": "2020-11-29T05:03:12.068477Z"
    }
   },
   "source": [
    "| 方法\\属性 |                             描述                             |\n",
    "| :----: | :-------------: |\n",
    "|   match( )    |                 决定 RE 是否在字符串刚开始的位置匹配   |\n",
    "|   search( ) | 扫描字符串，找到这个 RE 匹配的位置｜\n",
    "| findall( )| 搜索字符串，以列表形式返回能匹配的全部字符串, attention！ 当正则表达式里面有小括号时，findall结果就只返回小括号里面的字符。 但match的还是正则表达式所表达的字符串|\n",
    "| split( )| 将一个字符串按照正则表达式匹配结果进行分割，返回列表类型|\n",
    "| finditer( ) | 搜索字符串，返回一个匹配结果的的迭代类型，每个迭代元素是match对象|\n",
    "| sub( ) | 在一个字符串中替换所有正则表达式匹配的正则表达式的子串，返回替代后的字符串|"
   ]
  },
  {
   "cell_type": "markdown",
   "metadata": {},
   "source": [
    "`match()` 和 `search()` 方法的异同\n",
    "* match 方法只匹配字符串的开始，如果字符串开始不符合正则表达式，则匹配失败，返回None.\n",
    "* search 方法匹配整个字符串，直到找到一个匹配\n",
    "\n",
    "实例如下："
   ]
  },
  {
   "cell_type": "code",
   "execution_count": 57,
   "metadata": {
    "ExecuteTime": {
     "end_time": "2020-11-29T06:53:16.724754Z",
     "start_time": "2020-11-29T06:53:16.720886Z"
    }
   },
   "outputs": [
    {
     "data": {
      "text/plain": [
       "<re.Match object; span=(4, 10), match='100081'>"
      ]
     },
     "execution_count": 57,
     "metadata": {},
     "output_type": "execute_result"
    }
   ],
   "source": [
    "re.search(r'[1-9]\\d{5}', 'BIT 100081 100866') # 只返回第一个匹配到的字符串"
   ]
  },
  {
   "cell_type": "code",
   "execution_count": 61,
   "metadata": {
    "ExecuteTime": {
     "end_time": "2020-11-29T06:54:36.913471Z",
     "start_time": "2020-11-29T06:54:36.909968Z"
    }
   },
   "outputs": [
    {
     "name": "stdout",
     "output_type": "stream",
     "text": [
      "None\n",
      "None\n",
      "<re.Match object; span=(0, 6), match='100086'>\n"
     ]
    }
   ],
   "source": [
    "print(re.match(r'[1-9]\\d{5}', 'BIT 100086'))  #第一个子字符串为BIT，没匹配到\n",
    "print(re.match(r'[1-9]\\d{5}', ' 100086'))  # 第一个子字符串为空格，没匹配到\n",
    "print(re.match(r'[1-9]\\d{5}', '100086 BIT')) # 匹配到了"
   ]
  },
  {
   "cell_type": "markdown",
   "metadata": {},
   "source": [
    "## re.findall( ) 方法"
   ]
  },
  {
   "cell_type": "code",
   "execution_count": 231,
   "metadata": {
    "ExecuteTime": {
     "end_time": "2020-11-29T15:32:22.439020Z",
     "start_time": "2020-11-29T15:32:22.436038Z"
    },
    "scrolled": true
   },
   "outputs": [
    {
     "name": "stdout",
     "output_type": "stream",
     "text": [
      "['huang feihong', 'fang shiyu']\n"
     ]
    }
   ],
   "source": [
    "mystr = 'huang feihong fang shiyu'\n",
    "print(re.findall('(\\w+\\s+\\w+)',mystr))"
   ]
  },
  {
   "cell_type": "code",
   "execution_count": 232,
   "metadata": {
    "ExecuteTime": {
     "end_time": "2020-11-29T15:33:35.570553Z",
     "start_time": "2020-11-29T15:33:35.563573Z"
    }
   },
   "outputs": [
    {
     "data": {
      "text/plain": [
       "[('one', '', '', '', '', ''),\n",
       " ('', 'two', '', '', '', ''),\n",
       " ('', '', 'three', '', '', ''),\n",
       " ('', '', '', 'four', '', ''),\n",
       " ('', '', '', '', 'five', ''),\n",
       " ('', '', '', '', '', 'six')]"
      ]
     },
     "execution_count": 232,
     "metadata": {},
     "output_type": "execute_result"
    }
   ],
   "source": [
    "a = \"one two three four five six\"\n",
    "\n",
    "re.findall(\"(one)|(two)|(three)|(four)|(five)|(six)\",a)"
   ]
  },
  {
   "cell_type": "markdown",
   "metadata": {},
   "source": [
    "## re.finditer( ) 方法"
   ]
  },
  {
   "cell_type": "code",
   "execution_count": 4,
   "metadata": {
    "ExecuteTime": {
     "end_time": "2020-12-11T07:57:33.478016Z",
     "start_time": "2020-12-11T07:57:33.474436Z"
    }
   },
   "outputs": [
    {
     "data": {
      "text/plain": [
       "<re.Match object; span=(0, 3), match='100'>"
      ]
     },
     "execution_count": 4,
     "metadata": {},
     "output_type": "execute_result"
    }
   ],
   "source": [
    "re.match(r'\\b[1-9]\\d{2}', '100081')"
   ]
  },
  {
   "cell_type": "code",
   "execution_count": 2,
   "metadata": {
    "ExecuteTime": {
     "end_time": "2020-12-11T07:56:54.015096Z",
     "start_time": "2020-12-11T07:56:54.009371Z"
    }
   },
   "outputs": [
    {
     "name": "stdout",
     "output_type": "stream",
     "text": [
      "<callable_iterator object at 0x7fdd7bfdbd50>\n",
      "found string: 100 at 4:7\n",
      "found string: 100 at 11:14\n"
     ]
    }
   ],
   "source": [
    "import re\n",
    "result = re.finditer(r'\\b[1-9]\\d{2}', 'BIT 100081 100866') # 只返回第一个匹配到的字符串\n",
    "print(result)\n",
    "\n",
    "start_index = []\n",
    "end_index = []\n",
    "for match in result:\n",
    "    start_index.append(match.start())\n",
    "    end_index.append(match.end())\n",
    "    print('found string: {} at {}:{}'.format(match.group(), match.start(), match.end()\n",
    "                                            ))"
   ]
  },
  {
   "cell_type": "code",
   "execution_count": 5,
   "metadata": {
    "ExecuteTime": {
     "end_time": "2020-12-11T09:58:27.013942Z",
     "start_time": "2020-12-11T09:58:27.009157Z"
    }
   },
   "outputs": [
    {
     "name": "stdout",
     "output_type": "stream",
     "text": [
      "<callable_iterator object at 0x7fdd7bfdbe10>\n",
      "found string: 100081 at 4:10\n",
      "found string: 100866 at 11:17\n"
     ]
    }
   ],
   "source": [
    "result = re.finditer(r'[1-9]\\d{5}', 'BIT 100081 100866') # 只返回第一个匹配到的字符串\n",
    "print(result)\n",
    "\n",
    "start_index = []\n",
    "end_index = []\n",
    "for match in result:\n",
    "    start_index.append(match.start())\n",
    "    end_index.append(match.end())\n",
    "    print('found string: {} at {}:{}'.format(match.group(), match.start(), match.end()\n",
    "                                            ))"
   ]
  },
  {
   "cell_type": "markdown",
   "metadata": {},
   "source": [
    "# 元字符\n",
    "\n",
    "| 元字符 |                             描述                             |\n",
    "| :----: | :-------------: |\n",
    "|   .    |                 匹配除换行符以外的任意字符。                 |\n",
    "|  [ ]   |             字符类，匹配方括号中包含的任意字符。             |\n",
    "|  [^ ]  |           否定字符类。匹配方括号中不包含的任意字符           |\n",
    "|   *    |                 匹配前面的子表达式零次或多次                 |\n",
    "|   +    |                 匹配前面的子表达式一次或多次                 |\n",
    "|   ?    |    匹配前面的子表达式零次或一次，或指明一个非贪婪限定符。    |\n",
    "| {n,m}  |       花括号，匹配前面字符至少 n 次，但是不超过 m 次。       |\n",
    "| (xyz)  |             字符组，按照确切的顺序匹配字符xyz。              |\n",
    "| &#124; |          分支结构，匹配符号之前的字符或后面的字符。          |\n",
    "|   ^    |                         匹配行的开始                         \n",
    "|   $    |                         匹配行的结束                       |\n",
    "\n",
    "| &#92;  | 转义符，它可以还原元字符原来的含义，允许你匹配保留字符 <code>[ ] ( ) { } . * + ? ^ $ \\ &#124;</code> |\n",
    "\n",
    "\n",
    "转义符号对元字符转意，普通的字符不用管"
   ]
  },
  {
   "cell_type": "markdown",
   "metadata": {},
   "source": [
    "## 英文句号"
   ]
  },
  {
   "cell_type": "code",
   "execution_count": 133,
   "metadata": {
    "ExecuteTime": {
     "end_time": "2020-11-29T10:21:52.377647Z",
     "start_time": "2020-11-29T10:21:52.373417Z"
    },
    "scrolled": true
   },
   "outputs": [
    {
     "data": {
      "text/plain": [
       "['car', 'par', 'gar']"
      ]
     },
     "execution_count": 133,
     "metadata": {},
     "output_type": "execute_result"
    }
   ],
   "source": [
    "text = 'The car parked in the garage.'\n",
    "re.findall(r'.ar', text)"
   ]
  },
  {
   "cell_type": "markdown",
   "metadata": {},
   "source": [
    "## 字符集\n",
    "字符集也称为字符类。方括号被用于指定字符集。使用字符集内的连字符来指定字符范围。方括号内的字符范围的顺序并不重要。\n",
    "例如正则表达式 `[Tt]he`，表示: 大写 `T` 或小写 `t` ，后跟字母 `h`，再后跟字母 `e`。\n",
    "\n",
    "<pre>\n",
    "\"[Tt]he\" => <a href=\"#learn-regex\"><strong>The</strong></a> car parked in <a href=\"#learn-regex\"><strong>the</strong></a> garage.\n",
    "</pre>\n",
    "\n",
    "\n",
    "然而，字符集中的英文句号表示它字面的含义。正则表达式 `ar[.]`，表示小写字母 `a`，后面跟着一个字母 `r`，再后面跟着一个英文句号 `.` 字符。\n",
    "\n",
    "<pre>\n",
    "\"ar[.]\" => A garage is a good place to park a c<a href=\"#learn-regex\"><strong>ar.</strong></a>\n",
    "</pre>\n",
    "\n",
    "\n"
   ]
  },
  {
   "cell_type": "code",
   "execution_count": 135,
   "metadata": {
    "ExecuteTime": {
     "end_time": "2020-11-29T10:23:21.142975Z",
     "start_time": "2020-11-29T10:23:21.139367Z"
    }
   },
   "outputs": [
    {
     "data": {
      "text/plain": [
       "['The', 'the']"
      ]
     },
     "execution_count": 135,
     "metadata": {},
     "output_type": "execute_result"
    }
   ],
   "source": [
    "re.findall(r'[Tt]he', text)"
   ]
  },
  {
   "cell_type": "code",
   "execution_count": 150,
   "metadata": {
    "ExecuteTime": {
     "end_time": "2020-11-29T13:09:39.000965Z",
     "start_time": "2020-11-29T13:09:38.997011Z"
    }
   },
   "outputs": [
    {
     "data": {
      "text/plain": [
       "['ge.']"
      ]
     },
     "execution_count": 150,
     "metadata": {},
     "output_type": "execute_result"
    }
   ],
   "source": [
    "re.findall(r'ge[.]', text)"
   ]
  },
  {
   "cell_type": "markdown",
   "metadata": {},
   "source": [
    "### 否定字符集\n",
    "\n",
    "一般来说插入字符 `^` 表示一个字符串的开始，但是当它在方括号内出现时，它会取消字符集。例如正则表达式 `[^c]ar`，表示: 除了字母 `c` 以外的任意字符，后面跟着字符 `a`，再后面跟着一个字母 `r`。"
   ]
  },
  {
   "cell_type": "code",
   "execution_count": 137,
   "metadata": {
    "ExecuteTime": {
     "end_time": "2020-11-29T10:25:02.551750Z",
     "start_time": "2020-11-29T10:25:02.548341Z"
    }
   },
   "outputs": [
    {
     "data": {
      "text/plain": [
       "['par', 'gar']"
      ]
     },
     "execution_count": 137,
     "metadata": {},
     "output_type": "execute_result"
    }
   ],
   "source": [
    "re.findall(r'[^c]ar', text)"
   ]
  },
  {
   "cell_type": "code",
   "execution_count": null,
   "metadata": {},
   "outputs": [],
   "source": []
  },
  {
   "cell_type": "markdown",
   "metadata": {},
   "source": [
    "##  重复\n",
    "\n",
    "以下元字符 `+`，`*` 或 `?` 用于指定子模式可以出现多少次。这些元字符在不同情况下的作用不同。\n",
    "\n",
    "###  星号\n",
    "\n",
    "该符号 `*` 表示匹配上一个匹配规则的零次或多次。正则表达式 `a*` 表示小写字母 `a` 可以重复零次或者多次。但是它如果出现在字符集或者字符类之后，它表示整个字符集的重复。\n",
    "例如正则表达式 `[a-z]*`，表示: 一行中可以包含任意数量的小写字母。"
   ]
  },
  {
   "cell_type": "code",
   "execution_count": 138,
   "metadata": {
    "ExecuteTime": {
     "end_time": "2020-11-29T11:05:13.688371Z",
     "start_time": "2020-11-29T11:05:13.684847Z"
    }
   },
   "outputs": [
    {
     "data": {
      "text/plain": [
       "['', 'he', '', 'car', '', 'parked', '', 'in', '', 'the', '', 'garage', '', '']"
      ]
     },
     "execution_count": 138,
     "metadata": {},
     "output_type": "execute_result"
    }
   ],
   "source": [
    "re.findall(r'[a-z]*', text)"
   ]
  },
  {
   "cell_type": "markdown",
   "metadata": {},
   "source": [
    "该 `*` 符号可以与元符号 `.` 用在一起，用来匹配任意字符串 `.*`。该 `*` 符号可以与空格符 `\\s` 一起使用，用来匹配一串空格字符。\n",
    "例如正则表达式 `\\s*cat\\s*`，表示: 零个或多个空格，后面跟小写字母 `c`，再后面跟小写字母 `a`，再再后面跟小写字母 `r`，后面再跟零个或多个空格。"
   ]
  },
  {
   "cell_type": "code",
   "execution_count": 153,
   "metadata": {
    "ExecuteTime": {
     "end_time": "2020-11-29T13:15:34.726547Z",
     "start_time": "2020-11-29T13:15:34.722449Z"
    }
   },
   "outputs": [
    {
     "data": {
      "text/plain": [
       "[' car ']"
      ]
     },
     "execution_count": 153,
     "metadata": {},
     "output_type": "execute_result"
    }
   ],
   "source": [
    "re.findall(r'\\s*car\\s*', text)"
   ]
  },
  {
   "cell_type": "markdown",
   "metadata": {},
   "source": [
    "### 加号\n",
    "该符号 `+` 匹配上一个字符的一次或多次。例如正则表达式 `c.+t`，表示: 一个小写字母 `c`，后跟任意数量的字符，后跟小写字母 `t`。\n",
    "\n",
    "\n",
    "\n",
    "<pre>\n",
    "\"c.+t\" => The fat <a href=\"#learn-regex\"><strong>cat sat on the mat</strong></a>.\n",
    "</pre>\n"
   ]
  },
  {
   "cell_type": "code",
   "execution_count": 155,
   "metadata": {
    "ExecuteTime": {
     "end_time": "2020-11-29T13:19:19.246718Z",
     "start_time": "2020-11-29T13:19:19.243094Z"
    }
   },
   "outputs": [
    {
     "data": {
      "text/plain": [
       "['cat sat on the mat']"
      ]
     },
     "execution_count": 155,
     "metadata": {},
     "output_type": "execute_result"
    }
   ],
   "source": [
    "re.findall(r'c.+t','The fat cat sat on the mat')"
   ]
  },
  {
   "cell_type": "markdown",
   "metadata": {},
   "source": [
    "## 问号\n",
    "在正则表达式中，元字符 `?` 用来表示前一个字符是可选的。该符号匹配前一个字符的零次或一次。\n",
    "例如正则表达式 `[T]?he`，表示: 可选的大写字母 `T`，后面跟小写字母 `h`，后跟小写字母 `e`。"
   ]
  },
  {
   "cell_type": "code",
   "execution_count": 159,
   "metadata": {
    "ExecuteTime": {
     "end_time": "2020-11-29T13:22:05.771544Z",
     "start_time": "2020-11-29T13:22:05.767907Z"
    }
   },
   "outputs": [
    {
     "data": {
      "text/plain": [
       "['The', 'he']"
      ]
     },
     "execution_count": 159,
     "metadata": {},
     "output_type": "execute_result"
    }
   ],
   "source": [
    "re.findall(r'[T]?he', 'The fat cat sat on the mat')"
   ]
  },
  {
   "cell_type": "markdown",
   "metadata": {},
   "source": [
    "## 花括号\n",
    "\n",
    "在正则表达式中花括号(也被称为量词 ?)用于指定字符或一组字符可以重复的次数。例如正则表达式 `[0-9]{2,3}`，表示: 匹配至少2位数字但不超过3位(0到9范围内的字符)。"
   ]
  },
  {
   "cell_type": "code",
   "execution_count": 161,
   "metadata": {
    "ExecuteTime": {
     "end_time": "2020-11-29T13:24:39.789281Z",
     "start_time": "2020-11-29T13:24:39.785571Z"
    },
    "scrolled": true
   },
   "outputs": [
    {
     "data": {
      "text/plain": [
       "['999', '10']"
      ]
     },
     "execution_count": 161,
     "metadata": {},
     "output_type": "execute_result"
    }
   ],
   "source": [
    "text_2 = 'The number was 9.9997 but we rounded it off to 10.0.'\n",
    "re.findall(r'[0-9]{2,3}', text_2)"
   ]
  },
  {
   "cell_type": "markdown",
   "metadata": {},
   "source": [
    "我们可以省略第二个数字。例如正则表达式 `[0-9]{2,}`，表示: 匹配2个或更多个数字。如果我们也删除逗号，则正则表达式 `[0-9]{2}`，表示: 匹配正好为2位数的数字。"
   ]
  },
  {
   "cell_type": "code",
   "execution_count": 162,
   "metadata": {
    "ExecuteTime": {
     "end_time": "2020-11-29T13:25:33.356292Z",
     "start_time": "2020-11-29T13:25:33.352552Z"
    }
   },
   "outputs": [
    {
     "data": {
      "text/plain": [
       "['9997', '10']"
      ]
     },
     "execution_count": 162,
     "metadata": {},
     "output_type": "execute_result"
    }
   ],
   "source": [
    "re.findall(r'[0-9]{2,}', text_2)"
   ]
  },
  {
   "cell_type": "code",
   "execution_count": 163,
   "metadata": {
    "ExecuteTime": {
     "end_time": "2020-11-29T13:25:43.490474Z",
     "start_time": "2020-11-29T13:25:43.486826Z"
    }
   },
   "outputs": [
    {
     "data": {
      "text/plain": [
       "['99', '97', '10']"
      ]
     },
     "execution_count": 163,
     "metadata": {},
     "output_type": "execute_result"
    }
   ],
   "source": [
    "re.findall(r'[0-9]{2}', text_2)"
   ]
  },
  {
   "cell_type": "markdown",
   "metadata": {},
   "source": [
    "## 字符组\n",
    "### 字符组可以用来提取括号里面的数据, 捕获分组\n",
    "字符组是一组写在圆括号内的子模式 `(...)`。正如我们在正则表达式中讨论的那样，如果我们把一个量词放在一个字符之后，它会重复前一个字符。\n",
    "但是，如果我们把量词放在一个字符组之后，它会重复整个字符组。\n",
    "例如正则表达式 `(ab)*` 表示匹配零个或多个的字符串 \"ab\"。我们还可以在字符组中使用元字符 `|`。例如正则表达式 `(c|g|p)ar`，表示: 小写字母 `c`、`g` 或 `p` 后面跟字母 `a`，后跟字母 `r`。"
   ]
  },
  {
   "cell_type": "code",
   "execution_count": 3,
   "metadata": {
    "ExecuteTime": {
     "end_time": "2020-12-03T11:51:58.410926Z",
     "start_time": "2020-12-03T11:51:58.399759Z"
    },
    "scrolled": true
   },
   "outputs": [
    {
     "data": {
      "text/plain": [
       "['c', 'p', 'g']"
      ]
     },
     "execution_count": 3,
     "metadata": {},
     "output_type": "execute_result"
    }
   ],
   "source": [
    "re.findall(r'(c|p|g)ar', 'The car is parked in the garage.')"
   ]
  },
  {
   "cell_type": "markdown",
   "metadata": {},
   "source": [
    "### 字符组也可以不捕获分组!!\n",
    "有时候，我们并不需要捕获某个分组的内容，但是又想使用分组的特性。\n",
    "\n",
    "这个时候就可以使用非捕获组`(?:表达式)`，从而不捕获数据，还能使用分组的功能。\n",
    "\n",
    " 例子如下，只捕获后面5位数字，不管前面的。 模式 `(:?A)(B)` 不取A 取B"
   ]
  },
  {
   "cell_type": "code",
   "execution_count": 7,
   "metadata": {
    "ExecuteTime": {
     "end_time": "2020-12-03T12:01:17.951959Z",
     "start_time": "2020-12-03T12:01:17.947554Z"
    }
   },
   "outputs": [
    {
     "data": {
      "text/plain": [
       "['75855', '75855']"
      ]
     },
     "execution_count": 7,
     "metadata": {},
     "output_type": "execute_result"
    }
   ],
   "source": [
    "text = 'tel:75855  12345-75855'\n",
    "re.findall(r'(?:\\w+)[:-]?(\\d{5})', text)"
   ]
  },
  {
   "cell_type": "markdown",
   "metadata": {},
   "source": [
    "### 分组的回溯引用\n",
    "正则表达式还提供了一种引用之前匹配分组的机制，有些时候，我们或许会寻找到一个子匹配，该匹配接下来会再次出现。 \n",
    "\n",
    "example：匹配符合 ab ba 这种关系的单词"
   ]
  },
  {
   "cell_type": "code",
   "execution_count": 14,
   "metadata": {
    "ExecuteTime": {
     "end_time": "2020-12-03T12:19:01.434586Z",
     "start_time": "2020-12-03T12:19:01.430525Z"
    }
   },
   "outputs": [
    {
     "data": {
      "text/plain": [
       "[('m', 'a'),\n",
       " ('b', 'a'),\n",
       " ('fro', 'u'),\n",
       " ('ba', 'r'),\n",
       " ('h', 'a'),\n",
       " ('h', 'e'),\n",
       " ('oh', 'h')]"
      ]
     },
     "execution_count": 14,
     "metadata": {},
     "output_type": "execute_result"
    }
   ],
   "source": [
    "text = '''mama baba\n",
    "froufrou   barbar\n",
    "haha\n",
    "hehe\n",
    "ohhohh\n",
    "abcd\n",
    "abba\n",
    "gummage\n",
    "asdhweuir\n",
    "babb\n",
    "aa\n",
    "ccbbdd'''\n",
    "re.findall(r'(\\w+)(\\w)\\1\\2', text)"
   ]
  },
  {
   "cell_type": "markdown",
   "metadata": {},
   "source": [
    "## 分支结构\n",
    "\n",
    "在正则表达式中垂直条 `|` 用来定义分支结构，分支结构就像多个表达式之间的条件。现在你可能认为这个字符集和分支机构的工作方式一样。\n",
    "但是字符集和分支结构巨大的区别是字符集只在字符级别上有作用，然而分支结构在表达式级别上依然可以使用。\n",
    "例如正则表达式 `(T|t)he|car`，表示: 大写字母 `T` 或小写字母 `t`，后面跟小写字母 `h`，后跟小写字母 `e` 或小写字母 `c`，后跟小写字母 `a`，后跟小写字母 `r`。"
   ]
  },
  {
   "cell_type": "markdown",
   "metadata": {},
   "source": [
    "## 匹配字符\\\n",
    "正则表达式中使用反斜杠 `\\` 来转义下一个字符。这将允许你使用保留字符来作为匹配字符 `{ } [ ] / \\ + * . $ ^ | ?`。在特殊字符前面加 `\\`，就可以使用它来做匹配字符。\n",
    "例如正则表达式 `.` 是用来匹配除了换行符以外的任意字符。现在要在输入字符串中匹配 `.` 字符，正则表达式 `(f|c|m)at\\.?`，表示: 小写字母 `f`、`c` 或者 `m` 后跟小写字母 `a`，后跟小写字母 `t`，后跟可选的 `.` 字符。"
   ]
  },
  {
   "cell_type": "code",
   "execution_count": 240,
   "metadata": {
    "ExecuteTime": {
     "end_time": "2020-11-29T16:29:04.209842Z",
     "start_time": "2020-11-29T16:29:04.206221Z"
    }
   },
   "outputs": [
    {
     "data": {
      "text/plain": [
       "<re.Match object; span=(24, 28), match='mat.'>"
      ]
     },
     "execution_count": 240,
     "metadata": {},
     "output_type": "execute_result"
    }
   ],
   "source": [
    "re.search(r'(f|c|m)at\\.', ' The fat cat sat on the mat.')"
   ]
  },
  {
   "cell_type": "markdown",
   "metadata": {},
   "source": [
    "## 定位符\n",
    "\n",
    "在正则表达式中，为了检查匹配符号是否是起始符号或结尾符号，我们使用定位符。\n",
    "定位符有两种类型: 第一种类型是 `^` 检查匹配字符是否是起始字符，第二种类型是 `$`，它检查匹配字符是否是输入字符串的最后一个字符。\n",
    "\n",
    "### 插入符号\n",
    "\n",
    "插入符号 `^` 符号用于检查匹配字符是否是输入字符串的第一个字符。如果我们使用正则表达式 `^a` (如果a是起始符号)匹配字符串 `abc`，它会匹配到 `a`。\n",
    "但是如果我们使用正则表达式 `^b`，它是匹配不到任何东西的，因为在字符串 `abc` 中 \"b\" 不是起始字符。\n",
    "让我们来看看另一个正则表达式 `^(T|t)he`，这表示: 大写字母 `T` 或小写字母 `t` 是输入字符串的起始符号，后面跟着小写字母 `h`，后跟小写字母 `e`。"
   ]
  },
  {
   "cell_type": "code",
   "execution_count": 248,
   "metadata": {
    "ExecuteTime": {
     "end_time": "2020-11-29T16:38:55.116321Z",
     "start_time": "2020-11-29T16:38:55.112630Z"
    },
    "scrolled": true
   },
   "outputs": [
    {
     "data": {
      "text/plain": [
       "['The', 'the']"
      ]
     },
     "execution_count": 248,
     "metadata": {},
     "output_type": "execute_result"
    }
   ],
   "source": [
    "re.findall(r'[T|t]he', 'The car is parked in the garage.')"
   ]
  },
  {
   "cell_type": "code",
   "execution_count": 249,
   "metadata": {
    "ExecuteTime": {
     "end_time": "2020-11-29T16:39:04.439966Z",
     "start_time": "2020-11-29T16:39:04.436342Z"
    }
   },
   "outputs": [
    {
     "data": {
      "text/plain": [
       "['The']"
      ]
     },
     "execution_count": 249,
     "metadata": {},
     "output_type": "execute_result"
    }
   ],
   "source": [
    "re.findall(r'^[T|t]he', 'The car is parked in the garage.')"
   ]
  },
  {
   "cell_type": "markdown",
   "metadata": {},
   "source": [
    "### 美元符号\n",
    "\n",
    "美元 `$` 符号用于检查匹配字符是否是输入字符串的最后一个字符。例如正则表达式 `(at\\.)$`，表示: 小写字母 `a`，后跟小写字母 `t`，后跟一个 `.` 字符，且这个匹配器必须是字符串的结尾。"
   ]
  },
  {
   "cell_type": "code",
   "execution_count": 251,
   "metadata": {
    "ExecuteTime": {
     "end_time": "2020-11-29T16:40:23.371409Z",
     "start_time": "2020-11-29T16:40:23.367622Z"
    }
   },
   "outputs": [
    {
     "data": {
      "text/plain": [
       "['fat', 'cat', 'sat', 'mat']"
      ]
     },
     "execution_count": 251,
     "metadata": {},
     "output_type": "execute_result"
    }
   ],
   "source": [
    "re.findall(r'.at', 'The fat cat. sat. on the mat.')"
   ]
  },
  {
   "cell_type": "code",
   "execution_count": 253,
   "metadata": {
    "ExecuteTime": {
     "end_time": "2020-11-29T16:40:37.721798Z",
     "start_time": "2020-11-29T16:40:37.718737Z"
    }
   },
   "outputs": [
    {
     "data": {
      "text/plain": [
       "['mat']"
      ]
     },
     "execution_count": 253,
     "metadata": {},
     "output_type": "execute_result"
    }
   ],
   "source": [
    "re.findall(r'.at$', 'The fat cat. sat. on the mat')"
   ]
  },
  {
   "cell_type": "markdown",
   "metadata": {},
   "source": [
    "## 简写字符集\n",
    "\n",
    "| 简写 | 描述                                     |\n",
    "| :--: | ---------------------------------------- |\n",
    "|  .   | 匹配除换行符以外的任意字符               |\n",
    "|  \\w  | 匹配所有字母和数字的字符: `[a-zA-Z0-9_]` |\n",
    "|  \\W  | 匹配非字母和数字的字符: `[^\\w]`          |\n",
    "|  \\d  | 匹配数字: `[0-9]`                        |\n",
    "|  \\D  | 匹配非数字: `[^\\d]`                      |\n",
    "|  \\s  | 匹配空格符: `[\\t\\n\\f\\r\\p{Z}]`            |\n",
    "|  \\S  | 匹配非空格符: `[^\\s]`                    |"
   ]
  },
  {
   "cell_type": "markdown",
   "metadata": {},
   "source": [
    "# 断言\n",
    "\n",
    "后行断言和先行断言有时候被称为断言，它们是特殊类型的 ***非捕获组*** (用于匹配模式，但不包括在匹配列表中)。当我们在一种特定模式之前或者之后有这种模式时，会优先使用断言。\n",
    "例如我们想获取输入字符串 `$4.44 and $10.88` 中带有前缀 `$` 的所有数字。我们可以使用这个正则表达式 `(?<=\\$)[0-9\\.]*`，表示: 获取包含 `.` 字符且前缀为 `$` 的所有数字。\n",
    "以下是正则表达式中使用的断言:\n",
    "\n",
    "| 符号 | 描述         |\n",
    "| :--: | ------------ |\n",
    "|  ?=  | 正向先行断言 |\n",
    "|  ?!  | 负向先行断言 |\n",
    "| ?<=  | 正向后行断言 |\n",
    "| ?<!  | 负向后行断言 |\n",
    "\n",
    "\n",
    "> 总结一下，这几个仿佛说的不是”人话”的令人费解的名词可以这样理解：其中的“正”指的是肯定预测，即某个位置满足某个正则，而与之对应的“负”则指的是否定预测，即某个位置不要满足某个正则；其中的“预测先行”则指的是“往后看”，“先往后走”的意思，即这个位置是出现在某一个字符串后面的，而与之相反的“回顾后发”则指的是相反的意思：“往前看”，即匹配的这个位置是出现在某个字符串的前面的。"
   ]
  },
  {
   "cell_type": "markdown",
   "metadata": {},
   "source": [
    "## 正向先行断言\n",
    "匹配一个位置（但结果不包含此位置）之前的文本内容，这个位置满足正则exp，举例：匹配出字符串s中以ing结尾的单词的前半部分："
   ]
  },
  {
   "cell_type": "code",
   "execution_count": 35,
   "metadata": {
    "ExecuteTime": {
     "end_time": "2020-12-04T03:22:52.824352Z",
     "start_time": "2020-12-04T03:22:52.820856Z"
    }
   },
   "outputs": [
    {
     "data": {
      "text/plain": [
       "['sing', 'danc']"
      ]
     },
     "execution_count": 35,
     "metadata": {},
     "output_type": "execute_result"
    }
   ],
   "source": [
    "pat = re.compile(r'\\b\\w+(?=ing\\b)')\n",
    "pat.findall('I\\'m singing while you\\'re dancing.')"
   ]
  },
  {
   "cell_type": "code",
   "execution_count": 28,
   "metadata": {
    "ExecuteTime": {
     "end_time": "2020-12-30T05:54:41.888948Z",
     "start_time": "2020-12-30T05:54:41.884531Z"
    }
   },
   "outputs": [
    {
     "data": {
      "text/plain": [
       "<re.Match object; span=(0, 6), match='abbbbs'>"
      ]
     },
     "execution_count": 28,
     "metadata": {},
     "output_type": "execute_result"
    }
   ],
   "source": [
    "re.match(r'ab*?s', 'abbbbs')"
   ]
  },
  {
   "cell_type": "markdown",
   "metadata": {},
   "source": [
    "例如：\n",
    "\n",
    "`我喜欢你 我喜欢 我喜欢我 喜欢 喜欢你`\n",
    "\n",
    "如果要取出喜欢两个字，要求这个喜欢后面有你，这个时候就要这么写：`喜欢(?=你)`，这就是正向先行断言。"
   ]
  },
  {
   "cell_type": "code",
   "execution_count": 13,
   "metadata": {
    "ExecuteTime": {
     "end_time": "2020-12-30T05:32:26.944671Z",
     "start_time": "2020-12-30T05:32:26.935505Z"
    }
   },
   "outputs": [
    {
     "name": "stdout",
     "output_type": "stream",
     "text": [
      "<re.Match object; span=(1, 3), match='喜欢'>\n",
      "<re.Match object; span=(17, 19), match='喜欢'>\n"
     ]
    }
   ],
   "source": [
    "text = '我喜欢你 我喜欢 我喜欢我 喜欢 喜欢你'\n",
    "all_match = re.finditer(r'喜欢(?=你)', text)\n",
    "for match in all_match:\n",
    "    print(match)"
   ]
  },
  {
   "cell_type": "code",
   "execution_count": 23,
   "metadata": {
    "ExecuteTime": {
     "end_time": "2020-12-03T12:26:07.857313Z",
     "start_time": "2020-12-03T12:26:07.853419Z"
    }
   },
   "outputs": [
    {
     "data": {
      "text/plain": [
       "['喜欢', '喜欢']"
      ]
     },
     "execution_count": 23,
     "metadata": {},
     "output_type": "execute_result"
    }
   ],
   "source": [
    "re.findall(r'喜欢(?=你)', text)"
   ]
  },
  {
   "cell_type": "markdown",
   "metadata": {},
   "source": [
    "## 正向后行断言\n",
    "\n",
    "***只需要你记住一句话：先行断言和后行断言只有一个区别，即先行断言从左往右看，后行断言从右往左看。***\n",
    "\n",
    "匹配一个位置（但结果不包含此位置）之后的文本，这个位置满足正则exp，举例：匹配出字符串s中以do开头的单词的后半部分："
   ]
  },
  {
   "cell_type": "code",
   "execution_count": 15,
   "metadata": {
    "ExecuteTime": {
     "end_time": "2020-12-03T12:21:57.708845Z",
     "start_time": "2020-12-03T12:21:57.702930Z"
    }
   },
   "outputs": [
    {
     "data": {
      "text/plain": [
       "['ing', 'ne']"
      ]
     },
     "execution_count": 15,
     "metadata": {},
     "output_type": "execute_result"
    }
   ],
   "source": [
    "pat = re.compile(r'(?<=\\bdo)\\w+\\b')\n",
    "pat.findall(\"doing done do todo\")                 "
   ]
  },
  {
   "cell_type": "code",
   "execution_count": 263,
   "metadata": {
    "ExecuteTime": {
     "end_time": "2020-11-29T17:07:18.104126Z",
     "start_time": "2020-11-29T17:07:18.100201Z"
    }
   },
   "outputs": [
    {
     "data": {
      "text/plain": [
       "['done', 'run', 'going']"
      ]
     },
     "execution_count": 263,
     "metadata": {},
     "output_type": "execute_result"
    }
   ],
   "source": [
    "s = 'done run going'\n",
    "p = re.compile(r'\\b\\w+(?!ing\\b)')\n",
    "\n",
    "\n",
    "re.findall(p,s)"
   ]
  },
  {
   "cell_type": "code",
   "execution_count": 39,
   "metadata": {
    "ExecuteTime": {
     "end_time": "2020-12-04T03:31:19.954557Z",
     "start_time": "2020-12-04T03:31:19.951094Z"
    }
   },
   "outputs": [
    {
     "name": "stdout",
     "output_type": "stream",
     "text": [
      "<re.Match object; span=(1, 3), match='喜欢'>\n",
      "<re.Match object; span=(10, 12), match='喜欢'>\n"
     ]
    }
   ],
   "source": [
    "group = re.finditer(r'(?<=我)喜欢', '我喜欢你 真的真的我喜欢')\n",
    "for x in group:\n",
    "    print(x)"
   ]
  },
  {
   "cell_type": "markdown",
   "metadata": {},
   "source": [
    "结合正向先后行\n"
   ]
  },
  {
   "cell_type": "code",
   "execution_count": 40,
   "metadata": {
    "ExecuteTime": {
     "end_time": "2020-12-04T03:31:36.185731Z",
     "start_time": "2020-12-04T03:31:36.182409Z"
    }
   },
   "outputs": [
    {
     "name": "stdout",
     "output_type": "stream",
     "text": [
      "<re.Match object; span=(1, 3), match='喜欢'>\n"
     ]
    }
   ],
   "source": [
    "group = re.finditer(r'(?<=我)喜欢(?=你)', '我喜欢你 真的真的喜欢你')\n",
    "for x in group:\n",
    "    print(x)"
   ]
  },
  {
   "cell_type": "markdown",
   "metadata": {},
   "source": [
    "\n",
    "# 习题\n",
    "## 匹配一行文字中的所有开头的字母内容"
   ]
  },
  {
   "cell_type": "code",
   "execution_count": 211,
   "metadata": {
    "ExecuteTime": {
     "end_time": "2020-11-29T14:43:07.377650Z",
     "start_time": "2020-11-29T14:43:07.374494Z"
    }
   },
   "outputs": [
    {
     "name": "stdout",
     "output_type": "stream",
     "text": [
      "['i', 'l', 'y', 'n', 'b', 'o', 'w', 'y', 'a', 'b', 'b', 'o', 'w', 'i', 'a', 'w', 'i', 'a', 'w', 'y']\n"
     ]
    }
   ],
   "source": [
    "s=\"i love you not because of who you are, but because of who i am when i am with you\"\n",
    "content = re.findall(r'\\b\\w', s)\n",
    "print(content)"
   ]
  },
  {
   "cell_type": "markdown",
   "metadata": {},
   "source": [
    "## 匹配一行文字中的所有开头的数字内容"
   ]
  },
  {
   "cell_type": "code",
   "execution_count": 212,
   "metadata": {
    "ExecuteTime": {
     "end_time": "2020-11-29T14:44:15.843226Z",
     "start_time": "2020-11-29T14:44:15.839983Z"
    }
   },
   "outputs": [
    {
     "name": "stdout",
     "output_type": "stream",
     "text": [
      "['1', '3', '5', '5']\n"
     ]
    }
   ],
   "source": [
    "s = \"i love you not because 12sd 34er 56df e4 54434\"\n",
    "content = re.findall(r\"\\b\\d\",s)\n",
    "print(content)"
   ]
  },
  {
   "cell_type": "markdown",
   "metadata": {},
   "source": [
    "## 匹配一行文字中的所有开头的数字内容或数字内容"
   ]
  },
  {
   "cell_type": "code",
   "execution_count": 213,
   "metadata": {
    "ExecuteTime": {
     "end_time": "2020-11-29T14:45:32.104230Z",
     "start_time": "2020-11-29T14:45:32.101437Z"
    }
   },
   "outputs": [
    {
     "name": "stdout",
     "output_type": "stream",
     "text": [
      "['i', 'love', 'you', 'not', 'because', '12sd', '34er', '56df', 'e4', '54434']\n"
     ]
    }
   ],
   "source": [
    "s = \"i love you not because 12sd 34er 56df e4 54434\"\n",
    "content = re.findall(r\"\\b\\w+\",s)\n",
    "print(content)"
   ]
  },
  {
   "cell_type": "markdown",
   "metadata": {},
   "source": [
    "## 提取每行中完整的年月日和时间字段"
   ]
  },
  {
   "cell_type": "code",
   "execution_count": 215,
   "metadata": {
    "ExecuteTime": {
     "end_time": "2020-11-29T14:48:16.380682Z",
     "start_time": "2020-11-29T14:48:16.377339Z"
    }
   },
   "outputs": [
    {
     "name": "stdout",
     "output_type": "stream",
     "text": [
      "['1987-02-09 07:30:00', '1987-02-10 07:25:00']\n"
     ]
    }
   ],
   "source": [
    "s=\"\"\"se234 1987-02-09 07:30:00 1987-02-10 07:25:00\"\"\"\n",
    "content=re.findall(r\"\\d{4}-\\d{2}-\\d{2} \\d{2}:\\d{2}:\\d{2}\",s,re.M)\n",
    "print(content)"
   ]
  },
  {
   "cell_type": "markdown",
   "metadata": {},
   "source": [
    "## 提取出字符串中的单词"
   ]
  },
  {
   "cell_type": "code",
   "execution_count": 216,
   "metadata": {
    "ExecuteTime": {
     "end_time": "2020-11-29T14:50:25.128783Z",
     "start_time": "2020-11-29T14:50:25.124711Z"
    }
   },
   "outputs": [
    {
     "name": "stdout",
     "output_type": "stream",
     "text": [
      "['i', 'love', 'you', 'not', 'because', 'of', 'who', 'you', 'are', 'but', 'because', 'of', 'who', 'i', 'am', 'when', 'i', 'am', 'with', 'you']\n"
     ]
    }
   ],
   "source": [
    "s=\"\"\"i love you not because of who 234 you are, 234 but 3234ser because of who i am when i am with you\"\"\"\n",
    "  \n",
    "content=re.findall(r\"\\b[a-zA-Z]+\\b\",s)\n",
    "print(content)"
   ]
  },
  {
   "cell_type": "markdown",
   "metadata": {},
   "source": [
    "## 提取邮件"
   ]
  },
  {
   "cell_type": "code",
   "execution_count": 217,
   "metadata": {
    "ExecuteTime": {
     "end_time": "2020-11-29T14:51:29.985812Z",
     "start_time": "2020-11-29T14:51:29.982526Z"
    }
   },
   "outputs": [
    {
     "name": "stdout",
     "output_type": "stream",
     "text": [
      "['xiasd@163.com', 'sdflkj@180.com', 'solodfdsf@123.com', 'sdlfjxiaori@139.com']\n"
     ]
    }
   ],
   "source": [
    "s=\"\"\"xiasd@163.com, sdlfkj@.com sdflkj@180.com solodfdsf@123.com sdlfjxiaori@139.com saldkfj.com oisdfo@.sodf.com.com\"\"\"\n",
    "  \n",
    "content=re.findall(r\"\\w+@\\w+.com\",s)\n",
    "print(content)"
   ]
  },
  {
   "cell_type": "code",
   "execution_count": 222,
   "metadata": {
    "ExecuteTime": {
     "end_time": "2020-11-29T15:13:16.250269Z",
     "start_time": "2020-11-29T15:13:16.240876Z"
    }
   },
   "outputs": [
    {
     "name": "stdout",
     "output_type": "stream",
     "text": [
      "['123@qq.com', 'aaa@163.com', 'bbb@126.com']\n",
      "123@qq.com\n",
      "aaa@163.com\n",
      "bbb@126.com\n",
      "['123@qq.com', 'aaa@163.com', 'bbb@126.com']\n"
     ]
    }
   ],
   "source": [
    "y= '123@qq.comaaa@163.combbb@126.comasdfasfs33333@adfcom'\n",
    "#第一种写法：\n",
    "ret1=re.findall('[0-9a-z]+@+[0-9a-z]+\\.com',y)\n",
    "print(ret1)\n",
    "##第二种写法：\n",
    "ret2=re.findall('(\\w+@(qq|126|163)\\.com)',y)\n",
    "for i in ret2:\n",
    "    print(i[0])\n",
    "#第三种写法：\n",
    "ret3=re.findall('\\w+@(?:qq|126|163)\\.com',y)\n",
    "print(ret3)"
   ]
  },
  {
   "cell_type": "code",
   "execution_count": 230,
   "metadata": {
    "ExecuteTime": {
     "end_time": "2020-11-29T15:30:14.480395Z",
     "start_time": "2020-11-29T15:30:14.477198Z"
    }
   },
   "outputs": [
    {
     "name": "stdout",
     "output_type": "stream",
     "text": [
      "['huang feihong', 'fang shiyu']\n"
     ]
    }
   ],
   "source": [
    "mystr = 'huang feihong fang shiyu'\n",
    "print(re.findall('(\\w+\\s+\\w+)',mystr))"
   ]
  },
  {
   "cell_type": "code",
   "execution_count": 1,
   "metadata": {
    "ExecuteTime": {
     "end_time": "2020-12-20T14:42:04.831835Z",
     "start_time": "2020-12-20T14:42:04.810100Z"
    }
   },
   "outputs": [],
   "source": [
    "import re"
   ]
  },
  {
   "cell_type": "code",
   "execution_count": 9,
   "metadata": {
    "ExecuteTime": {
     "end_time": "2020-12-20T14:45:09.684489Z",
     "start_time": "2020-12-20T14:45:09.680812Z"
    }
   },
   "outputs": [
    {
     "data": {
      "text/plain": [
       "'ssdfsdfsdf'"
      ]
     },
     "execution_count": 9,
     "metadata": {},
     "output_type": "execute_result"
    }
   ],
   "source": [
    "re.sub(r'[^A-Za-z0-9]+','','s. $$''%^&**@ )(*&^^s''df.\\sdf\\*sdf')"
   ]
  },
  {
   "cell_type": "code",
   "execution_count": 1,
   "metadata": {
    "ExecuteTime": {
     "end_time": "2020-12-28T08:37:26.442562Z",
     "start_time": "2020-12-28T08:37:26.435071Z"
    }
   },
   "outputs": [],
   "source": [
    "import Levenshtein as Lev"
   ]
  },
  {
   "cell_type": "code",
   "execution_count": 11,
   "metadata": {
    "ExecuteTime": {
     "end_time": "2020-12-28T09:00:30.057520Z",
     "start_time": "2020-12-28T09:00:30.053987Z"
    }
   },
   "outputs": [
    {
     "data": {
      "text/plain": [
       "0.75"
      ]
     },
     "execution_count": 11,
     "metadata": {},
     "output_type": "execute_result"
    }
   ],
   "source": [
    "Lev.jaro('Santiago'.lower(), 'SANTRRIS AES'.lower())"
   ]
  },
  {
   "cell_type": "code",
   "execution_count": null,
   "metadata": {},
   "outputs": [],
   "source": []
  }
 ],
 "metadata": {
  "kernelspec": {
   "display_name": "Python 3",
   "language": "python",
   "name": "python3"
  },
  "language_info": {
   "codemirror_mode": {
    "name": "ipython",
    "version": 3
   },
   "file_extension": ".py",
   "mimetype": "text/x-python",
   "name": "python",
   "nbconvert_exporter": "python",
   "pygments_lexer": "ipython3",
   "version": "3.7.6"
  },
  "toc": {
   "base_numbering": 1,
   "nav_menu": {},
   "number_sections": true,
   "sideBar": true,
   "skip_h1_title": false,
   "title_cell": "Table of Contents",
   "title_sidebar": "Contents",
   "toc_cell": false,
   "toc_position": {},
   "toc_section_display": true,
   "toc_window_display": true
  },
  "varInspector": {
   "cols": {
    "lenName": 16,
    "lenType": 16,
    "lenVar": 40
   },
   "kernels_config": {
    "python": {
     "delete_cmd_postfix": "",
     "delete_cmd_prefix": "del ",
     "library": "var_list.py",
     "varRefreshCmd": "print(var_dic_list())"
    },
    "r": {
     "delete_cmd_postfix": ") ",
     "delete_cmd_prefix": "rm(",
     "library": "var_list.r",
     "varRefreshCmd": "cat(var_dic_list()) "
    }
   },
   "types_to_exclude": [
    "module",
    "function",
    "builtin_function_or_method",
    "instance",
    "_Feature"
   ],
   "window_display": false
  }
 },
 "nbformat": 4,
 "nbformat_minor": 4
}
