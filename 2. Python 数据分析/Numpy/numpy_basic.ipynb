{
 "cells": [
  {
   "cell_type": "code",
   "execution_count": 3,
   "metadata": {},
   "outputs": [],
   "source": [
    "# Jupyter 参数设置\n",
    "# 导入设置后， 在一个cell 可以输出多个值\n",
    "# 就没有必要用不同的cell去运行\n",
    "from IPython.core.interactiveshell import InteractiveShell\n",
    "InteractiveShell.ast_node_interactivity = 'all'\n",
    "\n",
    "import numpy as np\n",
    "import time\n"
   ]
  },
  {
   "cell_type": "markdown",
   "metadata": {},
   "source": [
    "## Numpy生成数组对象 ndarray，一维或者多维数组对象\n",
    "创建数组对象"
   ]
  },
  {
   "cell_type": "code",
   "execution_count": 24,
   "metadata": {},
   "outputs": [
    {
     "data": {
      "text/plain": [
       "array([1, 2, 3])"
      ]
     },
     "execution_count": 24,
     "metadata": {},
     "output_type": "execute_result"
    },
    {
     "data": {
      "text/plain": [
       "array([[1, 2, 3],\n",
       "       [4, 5, 6]])"
      ]
     },
     "execution_count": 24,
     "metadata": {},
     "output_type": "execute_result"
    },
    {
     "data": {
      "text/plain": [
       "array([1., 2., 3.])"
      ]
     },
     "execution_count": 24,
     "metadata": {},
     "output_type": "execute_result"
    }
   ],
   "source": [
    "tmp_array = np.array([1,2,3])\n",
    "tmp_array\n",
    "\n",
    "\n",
    "tmp2_array = np.array([[1,2,3],[4,5,6]])\n",
    "tmp2_array\n",
    "\n",
    "# 改变数据类型\n",
    "tmp3_array = np.array([1,2,3], dtype = np.float64)\n",
    "tmp3_array\n"
   ]
  },
  {
   "cell_type": "markdown",
   "metadata": {},
   "source": [
    "***Numpy*** 计算速度是十分快的！！！  \n",
    "在100万数量级上测试十个循环，时间差了大概40倍！！！"
   ]
  },
  {
   "cell_type": "code",
   "execution_count": 44,
   "metadata": {},
   "outputs": [
    {
     "name": "stdout",
     "output_type": "stream",
     "text": [
      "CPU times: user 13.8 ms, sys: 3.92 ms, total: 17.7 ms\n",
      "Wall time: 17.8 ms\n",
      "CPU times: user 637 ms, sys: 173 ms, total: 809 ms\n",
      "Wall time: 822 ms\n"
     ]
    }
   ],
   "source": [
    "test_arr = np.arange(1000000)\n",
    "test_list = list(range(1000000))\n",
    "\n",
    "%time for _ in range(10): result  = test_arr * 2\n",
    "%time for _ in range(10): [x * 2 for x in test_list]"
   ]
  },
  {
   "cell_type": "markdown",
   "metadata": {},
   "source": [
    "创建随机数, 0数组"
   ]
  },
  {
   "cell_type": "code",
   "execution_count": 4,
   "metadata": {},
   "outputs": [
    {
     "data": {
      "text/plain": [
       "array([[1.47593882, 0.50905093, 1.3576141 ],\n",
       "       [0.07974237, 1.06984986, 0.1807174 ]])"
      ]
     },
     "execution_count": 4,
     "metadata": {},
     "output_type": "execute_result"
    }
   ],
   "source": [
    "random_tmp = np.random.randn(2, 3)\n",
    "random_tmp\n"
   ]
  },
  {
   "cell_type": "code",
   "execution_count": 39,
   "metadata": {},
   "outputs": [
    {
     "data": {
      "text/plain": [
       "array([0., 0., 0.])"
      ]
     },
     "execution_count": 39,
     "metadata": {},
     "output_type": "execute_result"
    },
    {
     "data": {
      "text/plain": [
       "array([[0, 0, 0],\n",
       "       [0, 0, 0]])"
      ]
     },
     "execution_count": 39,
     "metadata": {},
     "output_type": "execute_result"
    }
   ],
   "source": [
    "zeros_tmp = np.zeros(3)\n",
    "zeros_tmp\n",
    "\n",
    "zeros_tmp2 = np.zeros((2, 3), dtype = np.int64)\n",
    "zeros_tmp2"
   ]
  },
  {
   "cell_type": "markdown",
   "metadata": {},
   "source": [
    "数组的一些运算"
   ]
  },
  {
   "cell_type": "code",
   "execution_count": 5,
   "metadata": {},
   "outputs": [
    {
     "data": {
      "text/plain": [
       "array([[2.95187764, 1.01810186, 2.71522819],\n",
       "       [0.15948475, 2.13969972, 0.36143479]])"
      ]
     },
     "execution_count": 5,
     "metadata": {},
     "output_type": "execute_result"
    },
    {
     "data": {
      "text/plain": [
       "array([[2.17839541, 0.25913285, 1.84311604],\n",
       "       [0.00635885, 1.14457872, 0.03265878]])"
      ]
     },
     "execution_count": 5,
     "metadata": {},
     "output_type": "execute_result"
    },
    {
     "data": {
      "text/plain": [
       "array([[0., 0., 0.],\n",
       "       [0., 0., 0.]])"
      ]
     },
     "execution_count": 5,
     "metadata": {},
     "output_type": "execute_result"
    },
    {
     "data": {
      "text/plain": [
       "array([[ 0.67753486,  1.96443999,  0.73658634],\n",
       "       [12.54038435,  0.9347106 ,  5.5335016 ]])"
      ]
     },
     "execution_count": 5,
     "metadata": {},
     "output_type": "execute_result"
    },
    {
     "data": {
      "text/plain": [
       "array([[2.17839541, 0.25913285, 1.84311604],\n",
       "       [0.00635885, 1.14457872, 0.03265878]])"
      ]
     },
     "execution_count": 5,
     "metadata": {},
     "output_type": "execute_result"
    }
   ],
   "source": [
    "random_tmp + random_tmp\n",
    "random_tmp * random_tmp\n",
    "random_tmp - random_tmp\n",
    "1 / random_tmp\n",
    "random_tmp ** 2"
   ]
  },
  {
   "cell_type": "markdown",
   "metadata": {},
   "source": [
    "### 索引和切片操作"
   ]
  },
  {
   "cell_type": "code",
   "execution_count": 127,
   "metadata": {},
   "outputs": [
    {
     "data": {
      "text/plain": [
       "array([[0, 1, 2, 3, 4],\n",
       "       [5, 6, 7, 8, 9]])"
      ]
     },
     "execution_count": 127,
     "metadata": {},
     "output_type": "execute_result"
    },
    {
     "data": {
      "text/plain": [
       "array([5, 6, 7, 8, 9])"
      ]
     },
     "execution_count": 127,
     "metadata": {},
     "output_type": "execute_result"
    },
    {
     "data": {
      "text/plain": [
       "array([[0, 5],\n",
       "       [1, 6],\n",
       "       [2, 7],\n",
       "       [3, 8],\n",
       "       [4, 9]])"
      ]
     },
     "execution_count": 127,
     "metadata": {},
     "output_type": "execute_result"
    },
    {
     "data": {
      "text/plain": [
       "array([0, 5])"
      ]
     },
     "execution_count": 127,
     "metadata": {},
     "output_type": "execute_result"
    },
    {
     "data": {
      "text/plain": [
       "array([0, 5])"
      ]
     },
     "execution_count": 127,
     "metadata": {},
     "output_type": "execute_result"
    }
   ],
   "source": [
    "tmp_data = np.arange(10).reshape(2, 5)\n",
    "tmp_data\n",
    "\n",
    "tmp_data[1]\n",
    "\n",
    "tmp_data.T\n",
    "tmp_data.T[0]\n",
    "\n",
    "tmp_data[:, 0]"
   ]
  },
  {
   "cell_type": "markdown",
   "metadata": {},
   "source": [
    "***在拷贝这里要注意一个事情，浅拷贝，深拷贝***\n"
   ]
  },
  {
   "cell_type": "code",
   "execution_count": 65,
   "metadata": {},
   "outputs": [
    {
     "name": "stdout",
     "output_type": "stream",
     "text": [
      "[0 1 2]\n",
      "[10086     1     2]\n",
      "[10086     1     2]\n"
     ]
    }
   ],
   "source": [
    "a = np.arange(3)\n",
    "print(a)\n",
    "\n",
    "b = a \n",
    "b[0] =10086\n",
    "\n",
    "print(b)\n",
    "print(a)\n",
    "\n",
    "# 改变b的值后，a的值会改变\n",
    "# 可以把b当作为a的快捷方式（不同指针是指向同一内存的）"
   ]
  },
  {
   "cell_type": "code",
   "execution_count": 66,
   "metadata": {},
   "outputs": [
    {
     "name": "stdout",
     "output_type": "stream",
     "text": [
      "[0 1 2]\n",
      "[10086     1     2]\n",
      "[0 1 2]\n"
     ]
    }
   ],
   "source": [
    "a = np.arange(3)\n",
    "print(a)\n",
    "\n",
    "b = a.copy()\n",
    "b[0] =10086\n",
    "\n",
    "\n",
    "print(b)\n",
    "print(a)\n",
    "# copy之后，改变b的值后，a的值不会改变"
   ]
  },
  {
   "cell_type": "markdown",
   "metadata": {},
   "source": [
    "拓展一下，浅拷贝和深拷贝的区别`copy()` 和 `deepcopy()` 的区别"
   ]
  },
  {
   "cell_type": "code",
   "execution_count": 110,
   "metadata": {},
   "outputs": [
    {
     "name": "stdout",
     "output_type": "stream",
     "text": [
      "[10086, 2, [3, 4]]\n",
      "[1, 2, [3, 4]]\n",
      "[10086, 2, [3, 9999]]\n",
      "[1, 2, [3, 9999]]\n"
     ]
    }
   ],
   "source": [
    "a = [1,2,[3,4]]\n",
    "b = a.copy()\n",
    "b[0] =10086\n",
    "print(b)\n",
    "print(a)\n",
    "# 1 和 [3,4] 是属于同一层数据，\n",
    "\n",
    "b[2][1] = 9999\n",
    "print(b)\n",
    "print(a)\n",
    "# 浅拷贝里面的嵌套数据还是指向同一内存！！！"
   ]
  },
  {
   "cell_type": "code",
   "execution_count": 109,
   "metadata": {},
   "outputs": [
    {
     "name": "stdout",
     "output_type": "stream",
     "text": [
      "[1, 2, [3, 4]]\n",
      "[1, 2, [3, 99999]]\n"
     ]
    }
   ],
   "source": [
    "from copy import deepcopy\n",
    "a = [1,2, [3,4]]\n",
    "b = deepcopy(a)\n",
    "\n",
    "b[2][1] = 99999\n",
    "print(a)\n",
    "print(b)\n",
    "# 深拷贝里面的嵌套数据，是指向不同的内存的！！！"
   ]
  },
  {
   "cell_type": "markdown",
   "metadata": {},
   "source": [
    "如果数据里面没有再嵌套一层数据，则深拷贝浅拷贝作用是一样的。  \n",
    "但是如果数据里面有嵌套数据，则深拷贝，浅拷贝作用是不一样的。比如说上面的 `1`,`2`,`[3,4]`，对于第一层的数据 , b中修改第一层数据`1`,`2`,`[3,4]` ，b的改变不对a有影响。\n",
    "\n",
    "但如果改变b中第一层数据的嵌套数据`[3,4]` 中的 `3`或`4`（上面例子，改变`4`为`99999`), 对于浅拷贝，a中的嵌套数据里面的数据也会跟着变化。 \n",
    "\n",
    "但对于深拷贝，b嵌套数据里面的数据改变后，a中但嵌套数据里面的数据不会发生任何改变\n"
   ]
  },
  {
   "cell_type": "markdown",
   "metadata": {},
   "source": [
    "### 布尔型索引"
   ]
  },
  {
   "cell_type": "code",
   "execution_count": 136,
   "metadata": {},
   "outputs": [
    {
     "data": {
      "text/plain": [
       "array([[ 0.50141269, -0.42452748,  0.20110261,  1.50819879, -0.95307112,\n",
       "         0.5799029 ],\n",
       "       [ 2.12486682,  1.38709778, -1.10219046,  0.68203119, -0.49276069,\n",
       "        -1.29582998],\n",
       "       [ 0.3573493 , -1.88432254, -2.20779592,  1.8646964 , -1.98913561,\n",
       "        -0.48809546],\n",
       "       [-0.45846506,  1.35765929, -1.75265356, -0.15750285, -0.28162653,\n",
       "         1.91665576]])"
      ]
     },
     "execution_count": 136,
     "metadata": {},
     "output_type": "execute_result"
    },
    {
     "data": {
      "text/plain": [
       "array([[ 0.50141269, -0.42452748,  0.20110261,  1.50819879, -0.95307112,\n",
       "         0.5799029 ],\n",
       "       [-0.45846506,  1.35765929, -1.75265356, -0.15750285, -0.28162653,\n",
       "         1.91665576]])"
      ]
     },
     "execution_count": 136,
     "metadata": {},
     "output_type": "execute_result"
    },
    {
     "data": {
      "text/plain": [
       "array([[ 0.20110261,  1.50819879, -0.95307112],\n",
       "       [-1.75265356, -0.15750285, -0.28162653]])"
      ]
     },
     "execution_count": 136,
     "metadata": {},
     "output_type": "execute_result"
    }
   ],
   "source": [
    "name = np.array(['xiao', 'zhi', 'qian', 'xiao'])\n",
    "tmp_data = np.random.randn(4,6)\n",
    "tmp_data\n",
    "\n",
    "# 选取了name == 'xiao' 的行\n",
    "tmp_data[name == 'xiao']\n",
    "\n",
    "tmp_data[name == 'xiao', 2:5]\n"
   ]
  },
  {
   "cell_type": "code",
   "execution_count": 146,
   "metadata": {},
   "outputs": [
    {
     "data": {
      "text/plain": [
       "array([[0.50141269, 0.        , 0.20110261, 1.50819879, 0.        ,\n",
       "        0.5799029 ],\n",
       "       [2.12486682, 1.38709778, 0.        , 0.68203119, 0.        ,\n",
       "        0.        ],\n",
       "       [0.3573493 , 0.        , 0.        , 1.8646964 , 0.        ,\n",
       "        0.        ],\n",
       "       [0.        , 1.35765929, 0.        , 0.        , 0.        ,\n",
       "        1.91665576]])"
      ]
     },
     "execution_count": 146,
     "metadata": {},
     "output_type": "execute_result"
    }
   ],
   "source": [
    "tmp_data[tmp_data<0] = 0 # 将小于0的值设定为0\n",
    "tmp_data"
   ]
  },
  {
   "cell_type": "markdown",
   "metadata": {},
   "source": [
    "### 花式索引（Fancy indexing）是一个NumPy术语，它指的是利用整数数组进行索引。假设我们有一个8×4数组："
   ]
  },
  {
   "cell_type": "code",
   "execution_count": 8,
   "metadata": {},
   "outputs": [
    {
     "data": {
      "text/plain": [
       "array([[0., 0., 0., 0.],\n",
       "       [1., 1., 1., 1.],\n",
       "       [2., 2., 2., 2.],\n",
       "       [3., 3., 3., 3.],\n",
       "       [4., 4., 4., 4.],\n",
       "       [5., 5., 5., 5.],\n",
       "       [6., 6., 6., 6.],\n",
       "       [7., 7., 7., 7.]])"
      ]
     },
     "execution_count": 8,
     "metadata": {},
     "output_type": "execute_result"
    }
   ],
   "source": [
    "arr = np.empty((8,4))\n",
    "for i in range(8):\n",
    "    arr[i] = i\n",
    "\n",
    "arr"
   ]
  },
  {
   "cell_type": "code",
   "execution_count": 14,
   "metadata": {},
   "outputs": [
    {
     "data": {
      "text/plain": [
       "array([[4., 4., 4., 4.],\n",
       "       [3., 3., 3., 3.],\n",
       "       [7., 7., 7., 7.]])"
      ]
     },
     "execution_count": 14,
     "metadata": {},
     "output_type": "execute_result"
    }
   ],
   "source": [
    "arr[[4,3,7]]\n",
    "# 选取其中第四行，第三行，第七行\n"
   ]
  },
  {
   "cell_type": "code",
   "execution_count": 19,
   "metadata": {},
   "outputs": [
    {
     "data": {
      "text/plain": [
       "array([[0., 1., 2., 3., 4., 5., 6., 7.],\n",
       "       [0., 1., 2., 3., 4., 5., 6., 7.],\n",
       "       [0., 1., 2., 3., 4., 5., 6., 7.],\n",
       "       [0., 1., 2., 3., 4., 5., 6., 7.]])"
      ]
     },
     "execution_count": 19,
     "metadata": {},
     "output_type": "execute_result"
    },
    {
     "data": {
      "text/plain": [
       "array([[0., 1., 2., 3., 4., 5., 6., 7.],\n",
       "       [0., 1., 2., 3., 4., 5., 6., 7.]])"
      ]
     },
     "execution_count": 19,
     "metadata": {},
     "output_type": "execute_result"
    }
   ],
   "source": [
    "arr.T\n",
    "arr.T[[1,2]]"
   ]
  },
  {
   "cell_type": "markdown",
   "metadata": {},
   "source": [
    "## 线性代数的一些计算方法 "
   ]
  },
  {
   "cell_type": "code",
   "execution_count": 35,
   "metadata": {},
   "outputs": [
    {
     "data": {
      "text/plain": [
       "array([[0, 1, 2],\n",
       "       [3, 4, 5],\n",
       "       [6, 7, 8]])"
      ]
     },
     "execution_count": 35,
     "metadata": {},
     "output_type": "execute_result"
    },
    {
     "data": {
      "text/plain": [
       "array([[0, 1],\n",
       "       [2, 3],\n",
       "       [4, 5]])"
      ]
     },
     "execution_count": 35,
     "metadata": {},
     "output_type": "execute_result"
    },
    {
     "data": {
      "text/plain": [
       "array([[10, 13],\n",
       "       [28, 40],\n",
       "       [46, 67]])"
      ]
     },
     "execution_count": 35,
     "metadata": {},
     "output_type": "execute_result"
    },
    {
     "data": {
      "text/plain": [
       "array([[10, 13],\n",
       "       [28, 40],\n",
       "       [46, 67]])"
      ]
     },
     "execution_count": 35,
     "metadata": {},
     "output_type": "execute_result"
    }
   ],
   "source": [
    "x = np.arange(9).reshape(3,3)\n",
    "y = np.arange(6).reshape(3,2)\n",
    "x\n",
    "y\n",
    "x.dot(y)\n",
    "np.dot(x,y)"
   ]
  },
  {
   "cell_type": "code",
   "execution_count": 36,
   "metadata": {},
   "outputs": [
    {
     "data": {
      "text/plain": [
       "array([ 3., 12., 21.])"
      ]
     },
     "execution_count": 36,
     "metadata": {},
     "output_type": "execute_result"
    }
   ],
   "source": [
    "np.dot(x, np.ones(3))"
   ]
  },
  {
   "cell_type": "code",
   "execution_count": 61,
   "metadata": {},
   "outputs": [
    {
     "data": {
      "text/plain": [
       "array([[-1.13182776,  0.06898705, -2.0799301 ],\n",
       "       [-0.40535183,  1.1368754 , -1.19074015],\n",
       "       [-0.10796796,  0.33165684,  2.40545543]])"
      ]
     },
     "execution_count": 61,
     "metadata": {},
     "output_type": "execute_result"
    },
    {
     "data": {
      "text/plain": [
       "array([[ 1.45700126, -0.5747243 ,  2.5770792 ],\n",
       "       [-0.5747243 ,  1.40724114, -0.69942568],\n",
       "       [ 2.5770792 , -0.69942568, 11.53018716]])"
      ]
     },
     "execution_count": 61,
     "metadata": {},
     "output_type": "execute_result"
    }
   ],
   "source": [
    "from numpy.linalg import inv, qr\n",
    "\n",
    "X = np.random.randn(3,3)\n",
    "X\n",
    "\n",
    "mat = X.T.dot(X) # X 乘 X.T 结果必为实对称矩阵，实对称矩阵必可对角化\n",
    "mat # 实对称矩阵\n",
    "\n"
   ]
  },
  {
   "cell_type": "code",
   "execution_count": 62,
   "metadata": {},
   "outputs": [
    {
     "data": {
      "text/plain": [
       "array([[ 1.32847723,  0.40725834, -0.2722197 ],\n",
       "       [ 0.40725834,  0.85754996, -0.03900583],\n",
       "       [-0.2722197 , -0.03900583,  0.1452058 ]])"
      ]
     },
     "execution_count": 62,
     "metadata": {},
     "output_type": "execute_result"
    },
    {
     "data": {
      "text/plain": [
       "array([[0, 0, 0],\n",
       "       [0, 1, 0],\n",
       "       [0, 0, 1]])"
      ]
     },
     "execution_count": 62,
     "metadata": {},
     "output_type": "execute_result"
    }
   ],
   "source": [
    "inv(mat) # mat 的逆矩阵\n",
    "\n",
    "mat.dot(inv(mat)).astype(int) # "
   ]
  },
  {
   "cell_type": "code",
   "execution_count": 64,
   "metadata": {},
   "outputs": [],
   "source": [
    "q, r = qr(mat) # QR 分解"
   ]
  },
  {
   "cell_type": "code",
   "execution_count": 69,
   "metadata": {},
   "outputs": [
    {
     "data": {
      "text/plain": [
       "array([[-0.48313729,  0.01819925, -0.87535544],\n",
       "       [ 0.19057687, -0.97362635, -0.12542798],\n",
       "       [-0.85455182, -0.22742144,  0.46692685]])"
      ]
     },
     "execution_count": 69,
     "metadata": {},
     "output_type": "execute_result"
    },
    {
     "data": {
      "text/plain": [
       "array([[ -3.01570853,   1.14355385, -11.23151984],\n",
       "       [  0.        ,  -1.22152222,  -1.89433154],\n",
       "       [  0.        ,   0.        ,   3.21562119]])"
      ]
     },
     "execution_count": 69,
     "metadata": {},
     "output_type": "execute_result"
    }
   ],
   "source": [
    "q\n",
    "r"
   ]
  }
 ],
 "metadata": {
  "kernelspec": {
   "display_name": "Python 3",
   "language": "python",
   "name": "python3"
  },
  "language_info": {
   "codemirror_mode": {
    "name": "ipython",
    "version": 3
   },
   "file_extension": ".py",
   "mimetype": "text/x-python",
   "name": "python",
   "nbconvert_exporter": "python",
   "pygments_lexer": "ipython3",
   "version": "3.7.6"
  },
  "toc": {
   "base_numbering": 1,
   "nav_menu": {},
   "number_sections": true,
   "sideBar": true,
   "skip_h1_title": false,
   "title_cell": "Table of Contents",
   "title_sidebar": "Contents",
   "toc_cell": false,
   "toc_position": {},
   "toc_section_display": true,
   "toc_window_display": true
  },
  "varInspector": {
   "cols": {
    "lenName": 16,
    "lenType": 16,
    "lenVar": 40
   },
   "kernels_config": {
    "python": {
     "delete_cmd_postfix": "",
     "delete_cmd_prefix": "del ",
     "library": "var_list.py",
     "varRefreshCmd": "print(var_dic_list())"
    },
    "r": {
     "delete_cmd_postfix": ") ",
     "delete_cmd_prefix": "rm(",
     "library": "var_list.r",
     "varRefreshCmd": "cat(var_dic_list()) "
    }
   },
   "types_to_exclude": [
    "module",
    "function",
    "builtin_function_or_method",
    "instance",
    "_Feature"
   ],
   "window_display": false
  }
 },
 "nbformat": 4,
 "nbformat_minor": 2
}
